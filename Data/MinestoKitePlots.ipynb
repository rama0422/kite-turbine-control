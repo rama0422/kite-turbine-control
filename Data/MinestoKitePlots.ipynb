{
 "cells": [
  {
   "cell_type": "code",
   "execution_count": 7,
   "id": "bb4168c4",
   "metadata": {},
   "outputs": [],
   "source": [
    "import numpy as np\n",
    "import math\n",
    "import matplotlib.pyplot as plt\n",
    "import pandas as pd\n"
   ]
  },
  {
   "cell_type": "code",
   "execution_count": 11,
   "id": "d3495f57",
   "metadata": {},
   "outputs": [
    {
     "data": {
      "text/plain": [
       "\"\\ndf['time_group'] = df['time'].astype(int)\\n\\ndf_downsampled = df.groupby('time_group').mean(numeric_only=True).reset_index()\\ndf_downsampled = df_downsampled.drop(columns = ['time'])\\n\\nprint(df_downsampled)\""
      ]
     },
     "execution_count": 11,
     "metadata": {},
     "output_type": "execute_result"
    }
   ],
   "source": [
    "# df = pd.read_csv('KiteData_20231202_f4_flood.csv', delimiter= \";\")\n",
    "df = pd.read_excel('KiteData_20231202_f4_flood.xlsx')\n",
    "\n",
    "columns = df.columns\n",
    "\n",
    "for column in columns:\n",
    "    df[column] = df[column].replace(',', '.', regex=False).astype(float)\n",
    "    # df[column] = df[column].str.replace(',', '.', regex=False).astype(float)\n",
    "\n",
    "\"\"\"\n",
    "df['time_group'] = df['time'].astype(int)\n",
    "\n",
    "df_downsampled = df.groupby('time_group').mean(numeric_only=True).reset_index()\n",
    "df_downsampled = df_downsampled.drop(columns = ['time'])\n",
    "\n",
    "print(df_downsampled)\"\"\"\n",
    "\n"
   ]
  },
  {
   "cell_type": "code",
   "execution_count": 13,
   "id": "1b0940ab",
   "metadata": {},
   "outputs": [],
   "source": [
    "from bokeh.plotting import figure, show\n",
    "from bokeh.models import ColumnDataSource, CustomJS, RadioButtonGroup, Div\n",
    "from bokeh.layouts import column\n",
    "from bokeh.io import output_file\n",
    "\n",
    "\n",
    "output_file(\"bokeh_plot.html\")\n",
    "\n",
    "df_downsampled_test = df.iloc[:, :]\n",
    "LABELS = [c for c in df_downsampled_test.columns if c != 'time']\n",
    "\n",
    "\n",
    "x_vals = df_downsampled_test['time'].to_list()\n",
    "y_init = df_downsampled_test[LABELS[0]].to_list()\n",
    "\n",
    "source = ColumnDataSource(data={'x': x_vals, 'y': y_init})\n",
    "\n",
    "p = figure(title=f\"{LABELS[0]} plot\")\n",
    "p.line('x', 'y', source=source)\n",
    "\n",
    "features_title = Div(text=\"<b>Features</b>\")\n",
    "buttons = RadioButtonGroup(labels=LABELS, active=0)\n",
    "\n",
    "all_series = {name: df_downsampled_test[name].to_list() for name in LABELS}\n",
    "\n",
    "\n",
    "buttons.js_on_change('active',CustomJS(args=dict(\n",
    "    src=source, series=all_series, labels=LABELS, fig=p\n",
    "), code=\"\"\"\n",
    "    const idx = this.active;              // which button\n",
    "    const label = labels[idx];            // feature name\n",
    "    src.data['y'] = series[label];        // swap y data\n",
    "    src.change.emit();                    // refresh plot\n",
    "    fig.title.text = `${label} plot`; // update title\n",
    "\"\"\"))\n",
    "\n",
    "\n",
    "callback = CustomJS(args=dict(src=source, xr=p.x_range, yr=p.y_range), code=\"\"\"\n",
    "  const x = src.data['x'];\n",
    "  const y = src.data['y'];\n",
    "  const start = xr.start;\n",
    "  const end = xr.end;\n",
    "\n",
    "  let ymin = Infinity;\n",
    "  let ymax = -Infinity;\n",
    "\n",
    "  for (let i = 0; i < x.length; i++) {\n",
    "    if (x[i] >= start && x[i] <= end) {\n",
    "      if (y[i] < ymin) ymin = y[i];\n",
    "      if (y[i] > ymax) ymax = y[i];\n",
    "    }\n",
    "  }\n",
    "\n",
    "  if (ymin < Infinity) {\n",
    "    const pad = (ymax - ymin) * 0.1 || 1;  // small padding\n",
    "    yr.start = ymin - pad;\n",
    "    yr.end = ymax + pad;\n",
    "  }\n",
    "\"\"\")\n",
    "p.x_range.js_on_change('start', callback)\n",
    "p.x_range.js_on_change('end', callback)\n",
    "\n",
    "\n",
    "show(column(features_title, buttons, p, sizing_mode=\"stretch_width\"))"
   ]
  }
 ],
 "metadata": {
  "kernelspec": {
   "display_name": "venv",
   "language": "python",
   "name": "python3"
  },
  "language_info": {
   "codemirror_mode": {
    "name": "ipython",
    "version": 3
   },
   "file_extension": ".py",
   "mimetype": "text/x-python",
   "name": "python",
   "nbconvert_exporter": "python",
   "pygments_lexer": "ipython3",
   "version": "3.13.7"
  }
 },
 "nbformat": 4,
 "nbformat_minor": 5
}
